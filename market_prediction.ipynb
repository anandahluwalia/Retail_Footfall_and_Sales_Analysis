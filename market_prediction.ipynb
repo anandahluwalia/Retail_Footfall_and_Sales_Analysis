{
 "cells": [
  {
   "cell_type": "code",
   "execution_count": 2,
   "id": "82031ff3-174b-4534-8622-91fe19fb0748",
   "metadata": {},
   "outputs": [],
   "source": [
    "import yfinance as yf\n",
    "import pandas as pd\n",
    "import numpy as np\n",
    "import matplotlib.pyplot as plt\n",
    "import seaborn as sns\n",
    "from sklearn.ensemble import RandomForestClassifier\n",
    "from sklearn.model_selection import train_test_split\n",
    "from sklearn.metrics import accuracy_score"
   ]
  },
  {
   "cell_type": "code",
   "execution_count": 4,
   "id": "b64e1ec6-cae5-486d-9343-80310a78f207",
   "metadata": {},
   "outputs": [
    {
     "name": "stderr",
     "output_type": "stream",
     "text": [
      "C:\\Users\\Admin\\AppData\\Local\\Temp\\ipykernel_6536\\4241652424.py:3: FutureWarning: YF.download() has changed argument auto_adjust default to True\n",
      "  df = yf.download(ticker, start='2015-01-01', end='2024-12-31')\n",
      "[*********************100%***********************]  1 of 1 completed\n"
     ]
    }
   ],
   "source": [
    "# Step 2: Load Historical Stock Data\n",
    "ticker = 'AAPL'  # Change to any stock symbol\n",
    "df = yf.download(ticker, start='2015-01-01', end='2024-12-31')\n",
    "\n"
   ]
  },
  {
   "cell_type": "code",
   "execution_count": 7,
   "id": "67417d74-bcb2-47ce-b46b-93dc0a211252",
   "metadata": {},
   "outputs": [],
   "source": [
    "# Step 3: Feature Engineering\n",
    "df['Tomorrow']\n",
    "df['Tomorrow'] = df['Close'].shift(-1)"
   ]
  },
  {
   "cell_type": "code",
   "execution_count": 8,
   "id": "77a5dddd-36ca-4d65-9e25-e180a59c7111",
   "metadata": {},
   "outputs": [
    {
     "data": {
      "text/plain": [
       "Date\n",
       "2015-01-02   NaN\n",
       "2015-01-05   NaN\n",
       "2015-01-06   NaN\n",
       "2015-01-07   NaN\n",
       "2015-01-08   NaN\n",
       "              ..\n",
       "2024-12-23   NaN\n",
       "2024-12-24   NaN\n",
       "2024-12-26   NaN\n",
       "2024-12-27   NaN\n",
       "2024-12-30   NaN\n",
       "Name: Tomorrow, Length: 2515, dtype: float64"
      ]
     },
     "execution_count": 8,
     "metadata": {},
     "output_type": "execute_result"
    }
   ],
   "source": [
    "df['Tomorrow']\n"
   ]
  },
  {
   "cell_type": "code",
   "execution_count": null,
   "id": "304b27bb-d609-4e52-a1fa-42ec2f3c086a",
   "metadata": {},
   "outputs": [],
   "source": []
  }
 ],
 "metadata": {
  "kernelspec": {
   "display_name": "Python [conda env:base] *",
   "language": "python",
   "name": "conda-base-py"
  },
  "language_info": {
   "codemirror_mode": {
    "name": "ipython",
    "version": 3
   },
   "file_extension": ".py",
   "mimetype": "text/x-python",
   "name": "python",
   "nbconvert_exporter": "python",
   "pygments_lexer": "ipython3",
   "version": "3.13.5"
  }
 },
 "nbformat": 4,
 "nbformat_minor": 5
}
